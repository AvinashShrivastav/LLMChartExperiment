{
 "cells": [
  {
   "cell_type": "code",
   "execution_count": 2,
   "metadata": {},
   "outputs": [],
   "source": [
    "import subprocess\n",
    "import os\n",
    "import zipfile\n",
    "import pandas as pd\n",
    "import numpy as np\n",
    "import shutil"
   ]
  },
  {
   "cell_type": "code",
   "execution_count": 3,
   "metadata": {},
   "outputs": [],
   "source": [
    "# specify the directory\n",
    "\n",
    "directory = 'D:/Chart/rms'     #<---------only here\n",
    "directory_targets = 'D:/Chart/charts/bar/csv'\n",
    "directory_images = 'D:/Chart/charts/bar/img'"
   ]
  },
  {
   "cell_type": "code",
   "execution_count": 4,
   "metadata": {},
   "outputs": [],
   "source": [
    "directory_predictions = 'D:/Chart/charts/bar/prompt1' + '/' + 'predictions'\n",
    "os.makedirs(directory_predictions, exist_ok=True)"
   ]
  },
  {
   "cell_type": "code",
   "execution_count": 5,
   "metadata": {},
   "outputs": [],
   "source": [
    "directory_zipped_files= 'D:/Chart/charts/bar/prompt1' + '/' + 'zipped_files'\n",
    "os.makedirs(directory_zipped_files, exist_ok=True)"
   ]
  },
  {
   "cell_type": "code",
   "execution_count": 6,
   "metadata": {},
   "outputs": [],
   "source": [
    "# list all files in the directory\n",
    "files = os.listdir(directory_images)\n",
    "files = [f for f in files if os.path.isfile(os.path.join(directory_images, f))]"
   ]
  },
  {
   "cell_type": "code",
   "execution_count": 7,
   "metadata": {},
   "outputs": [],
   "source": [
    "#filename\n",
    "def filename_finder(filename_with_extension):\n",
    "  filename_len = len(filename_with_extension)\n",
    "  comma_place = 0\n",
    "  for i in range(filename_len-1,1,-1):\n",
    "    if filename_with_extension[i] == '.':\n",
    "      comma_place = i\n",
    "      break\n",
    "  return filename_with_extension[:comma_place]"
   ]
  },
  {
   "cell_type": "code",
   "execution_count": 8,
   "metadata": {},
   "outputs": [
    {
     "name": "stdout",
     "output_type": "stream",
     "text": [
      "zip\n"
     ]
    }
   ],
   "source": [
    "print(filename_finder(\"zip.csv\"))"
   ]
  },
  {
   "cell_type": "code",
   "execution_count": 9,
   "metadata": {},
   "outputs": [],
   "source": [
    "def csv_to_zip(csv_file_path, zip_file_path):\n",
    "    # Create a ZIP file\n",
    "    with zipfile.ZipFile(zip_file_path, 'w', zipfile.ZIP_DEFLATED) as zipf:\n",
    "        # Add the CSV file to the ZIP file\n",
    "        zipf.write(csv_file_path, os.path.basename(csv_file_path))\n",
    "\n",
    "    print(f\"CSV file '{csv_file_path}' has been successfully compressed to '{zip_file_path}'.\")"
   ]
  },
  {
   "cell_type": "code",
   "execution_count": 10,
   "metadata": {},
   "outputs": [],
   "source": [
    "# Define the command and arguments\n",
    "python_interpreter = \"C:\\\\Users\\\\itsme\\\\AppData\\\\Local\\\\Microsoft\\\\WindowsApps\\\\PythonSoftwareFoundation.Python.3.11_qbz5n2kfra8p0\\\\python.exe\"\n",
    "script_path = \"deplot_main_files_only\\deplot\\evaluate_chart_to_table.py\"\n",
    "arg_name = \"--path\"\n",
    "arg_value = \"/content/drive/MyDrive/1201/1201\""
   ]
  },
  {
   "cell_type": "code",
   "execution_count": null,
   "metadata": {},
   "outputs": [],
   "source": [
    "count = 0\n",
    "print(\"start1\")\n",
    "for file in files:\n",
    "    print(\"iterating\")\n",
    "    file_dir = directory_images + '/' + file\n",
    "    gemini_img_prediction_output = get_image_info(file_dir)\n",
    "    print(gemini_img_prediction_output)\n",
    "    filename = filename_finder(file)\n",
    "    prediction_output_table_dir = f'{directory_predictions}/{filename}.csv'\n",
    "    with open(prediction_output_table_dir, 'w') as file:\n",
    "      file.write(gemini_img_prediction_output)\n",
    "    directory_zipped_files_sub = directory_zipped_files + '/' + filename\n",
    "    os.makedirs(directory_zipped_files_sub, exist_ok=True)\n",
    "    directory_file_target = f'{directory_targets}/{filename}.csv'\n",
    "\n",
    "    #zipped files dir for each file\n",
    "    zip_file_dir_pred = f'{directory_zipped_files_sub}/{filename}_predictions.zip'\n",
    "    zip_file_dir_tar = f'{directory_zipped_files_sub}/{filename}_targets.zip'\n",
    "\n",
    "    # Convert the CSV file to a ZIP file\n",
    "    csv_to_zip(prediction_output_table_dir, zip_file_dir_pred)\n",
    "    csv_to_zip(directory_file_target, zip_file_dir_tar)\n",
    "    arg_value = f'{directory_zipped_files_sub}/{filename}'     #\"/content/drive/MyDrive/1201/1201\"\n",
    "    result = subprocess.run([python_interpreter, script_path, arg_name, arg_value], capture_output=True, text=True)\n",
    "    print(result)\n",
    "    count+=1\n",
    "    print(count)\n",
    "\n"
   ]
  }
 ],
 "metadata": {
  "kernelspec": {
   "display_name": "Python 3",
   "language": "python",
   "name": "python3"
  },
  "language_info": {
   "codemirror_mode": {
    "name": "ipython",
    "version": 3
   },
   "file_extension": ".py",
   "mimetype": "text/x-python",
   "name": "python",
   "nbconvert_exporter": "python",
   "pygments_lexer": "ipython3",
   "version": "3.11.9"
  }
 },
 "nbformat": 4,
 "nbformat_minor": 2
}
